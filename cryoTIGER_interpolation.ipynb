{
 "cells": [
  {
   "cell_type": "code",
   "execution_count": 1,
   "id": "f195bbf8",
   "metadata": {},
   "outputs": [],
   "source": [
    "from utils import prepareData\n",
    "\n",
    "inputTsPath = 'tutorial_data/experimental_TS/0248_dose-filt_ali_bin8.mrc'\n",
    "outputPath  = 'tutorial_data/interpolated_TS'\n",
    "\n",
    "# This cell does not interpolate the TS. It prepares the dataset for a \n",
    "# later interpolation, in particular, it will convert your tilt series \n",
    "# to .png files in RBG. The output will be in the outputPath \n",
    "pngPath = prepareData(inputTsPath, outputPath)"
   ]
  },
  {
   "cell_type": "code",
   "execution_count": null,
   "id": "d7a7d46d",
   "metadata": {},
   "outputs": [],
   "source": [
    "from utils import interpolate\n",
    "\n",
    "timesToInterpolate = 1\n",
    "\n",
    "#If you want to use the cryoTIGER model\n",
    "modelPath = 'models/cryoTIGER_model'\n",
    "\n",
    "#If you want to use the Vimeo-90K model model\n",
    "modelPath = 'models/pre-trained_Vimeo-90K_data_model'\n",
    "\n",
    "# The ts interpolation is carried out here\n",
    "dstPath = interpolate(pngPath, outputPath, modelPath, timesToInterpolate)"
   ]
  },
  {
   "cell_type": "code",
   "execution_count": 3,
   "id": "a0211689",
   "metadata": {},
   "outputs": [],
   "source": [
    "from utils import generateOutputMRCTiltSeries\n",
    "\n",
    "# The tilt series as .mrc file will be stored\n",
    "generateOutputMRCTiltSeries(dstPath, outputPath, inputTsPath)"
   ]
  }
 ],
 "metadata": {
  "kernelspec": {
   "display_name": "cryoTIGER",
   "language": "python",
   "name": "python3"
  },
  "language_info": {
   "codemirror_mode": {
    "name": "ipython",
    "version": 3
   },
   "file_extension": ".py",
   "mimetype": "text/x-python",
   "name": "python",
   "nbconvert_exporter": "python",
   "pygments_lexer": "ipython3",
   "version": "3.9.18"
  }
 },
 "nbformat": 4,
 "nbformat_minor": 5
}
