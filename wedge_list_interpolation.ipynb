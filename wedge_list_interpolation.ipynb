{
 "cells": [
  {
   "cell_type": "markdown",
   "id": "589c2608",
   "metadata": {},
   "source": [
    "Interpolate only TLT file with angles"
   ]
  },
  {
   "cell_type": "code",
   "execution_count": 4,
   "id": "46bec4e1",
   "metadata": {},
   "outputs": [],
   "source": [
    "import pandas as pd  # Importing pandas for handling dataframes\n",
    "import numpy as np   # Importing numpy for numerical operations\n",
    "\n",
    "# Read the original .tlt file into a DataFrame\n",
    "# `header=None` indicates that the file has no column headers\n",
    "star = pd.read_csv('/path/to/original/file.tlt', header=None)\n",
    "\n",
    "# Define the number of values to interpolate between existing rows\n",
    "n = 1  # Number of interpolated rows between existing rows\n",
    "\n",
    "# Calculate the new index size to accommodate both original and interpolated rows\n",
    "# For each original row, (n+1) rows will be created, minus `n` for overlaps\n",
    "new_index = pd.RangeIndex(len(star) * (n + 1) - n)\n",
    "\n",
    "# Create a new DataFrame with the expanded index and same columns as `star`\n",
    "# Initialize all entries in the new DataFrame with NaN\n",
    "new_star = pd.DataFrame(np.nan, index=new_index, columns=star.columns)\n",
    "\n",
    "# Calculate the positions in the new DataFrame where the original rows will be placed\n",
    "# These positions are spaced by (n+1) intervals\n",
    "ids = np.arange(len(star)) * (n + 1)\n",
    "\n",
    "# Place the original data values into the corresponding positions in the new DataFrame\n",
    "new_star.loc[ids] = star.values\n",
    "\n",
    "# Perform linear interpolation to fill the NaN values\n",
    "new_star = new_star.interpolate()\n",
    "\n",
    "# Save the new DataFrame to a .tlt file with floating-point format\n",
    "np.savetxt(f'/path/to/interpolated/file.tlt', new_star, fmt='%f')\n"
   ]
  },
  {
   "cell_type": "markdown",
   "id": "6fe11228",
   "metadata": {},
   "source": [
    "Interpolate values in the wedge list, it saves also interpolated TLT file with angles"
   ]
  },
  {
   "cell_type": "code",
   "execution_count": null,
   "id": "a0211689",
   "metadata": {},
   "outputs": [],
   "source": [
    "import numpy as np             # Import numpy for numerical operations\n",
    "import starfile                # Import starfile to read/write .star files\n",
    "import pandas as pd            # Import pandas for handling dataframes\n",
    "from cryocat import starfileio # Import starfileio for writing .star files using cryocat's functionality\n",
    "\n",
    "# Define the TOMO_ID for selecting a specific TS\n",
    "TOMO_ID = '1'  # Process only the data corresponding to this TS\n",
    "\n",
    "# Define the number of interpolated tilts between existing tilts\n",
    "iframe = 1  # Controls the number of interpolation steps (1 = 2^1 - 1 = 1 interpolated tilt)\n",
    "\n",
    "# Read the original .star file containing the wedge list\n",
    "star = starfile.read('/path/to/original/wedge_list.star')\n",
    "\n",
    "# Filter the DataFrame to include only rows corresponding to the given TOMO_ID\n",
    "star = star.drop(star[star[\"tomo_num\"] != int(TOMO_ID)].index)\n",
    "\n",
    "# Calculate the number of interpolated rows for each existing row\n",
    "n = 2**iframe - 1  # The number of interpolated rows between original rows\n",
    "\n",
    "# Create a new index for the expanded DataFrame to include interpolated rows\n",
    "new_index = pd.RangeIndex(len(star) * (n + 1) - n)\n",
    "\n",
    "# Create a new DataFrame with the expanded index and the same columns as the original\n",
    "# Initialize all values as NaN (to later fill with interpolated values)\n",
    "new_star = pd.DataFrame(np.nan, index=new_index, columns=star.columns)\n",
    "\n",
    "# Calculate the positions in the new DataFrame where original rows will be placed\n",
    "# Original data is spaced by `(n + 1)` intervals\n",
    "ids = np.arange(len(star)) * (n + 1)\n",
    "\n",
    "# Place the original data into the corresponding positions in the new DataFrame\n",
    "new_star.loc[ids] = star.values\n",
    "\n",
    "# Perform linear interpolation to fill the NaN values in the DataFrame\n",
    "new_star = new_star.interpolate()\n",
    "\n",
    "# Save the interpolated tilt angles to a .tlt file in floating-point format\n",
    "np.savetxt(f'/path/to/interpolated/file.tlt', new_star['tilt_angle'], fmt='%f')\n",
    "\n",
    "# Write the interpolated data to a new .star file\n",
    "# Specify the data block name as \"data_stopgap_wedgelist\" and disable column numbering\n",
    "starfileio.Starfile.write(\n",
    "    [new_star], \n",
    "    f'/path/to/interpolated/wedge_list.star', \n",
    "    specifiers=[\"data_stopgap_wedgelist\"], \n",
    "    number_columns=False\n",
    ")\n"
   ]
  }
 ],
 "metadata": {
  "kernelspec": {
   "display_name": "dl",
   "language": "python",
   "name": "python3"
  },
  "language_info": {
   "codemirror_mode": {
    "name": "ipython",
    "version": 3
   },
   "file_extension": ".py",
   "mimetype": "text/x-python",
   "name": "python",
   "nbconvert_exporter": "python",
   "pygments_lexer": "ipython3",
   "version": "3.10.9"
  }
 },
 "nbformat": 4,
 "nbformat_minor": 5
}
